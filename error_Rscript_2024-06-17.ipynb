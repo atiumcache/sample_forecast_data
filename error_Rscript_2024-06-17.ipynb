{
 "cells": [
  {
   "attachments": {},
   "cell_type": "markdown",
   "metadata": {},
   "source": [
    "# Errors During R Script Execution\n",
    "## 2024-06-17\n",
    "I am running the trend forecasting R script in parallel on the Monsoon HPC. I am attempting to forecast new hospitalizations for:\n",
    "\n",
    "- 52 locations\n",
    "- 25 dates for each location \n",
    "\n",
    "So, the pipeline for a single location is:\n",
    "\n",
    "- Run the Particle Filter on each of the 25 dates to output an estimated beta. Results are output to `./pf_results/` and organized by location code. \n",
    "- Run the trend forecasting R script on each of the 25 dates. Results are output to `./beta_forecast_output/`.\n",
    "- Use LSODA_forecast python script to use the predicted beta from the R script to forecast the hospitalizations. Results are output to `./hosp_forecasts/` in a collective csv file for each date. \n",
    "\n",
    "And I am running this pipeline on each of the 52 locations. \n",
    "\n",
    "For each location, I run the 25 dates in parallel on Monsoon (each date runs on a separate CPU). \n",
    "\n",
    "**Note**: The mapping from location code to a state name can be found in `./locations.csv`.\n"
   ]
  },
  {
   "attachments": {},
   "cell_type": "markdown",
   "metadata": {},
   "source": [
    "### Error Message\n",
    "I am receiving an error on the R script for some dates/locations:\n",
    "\n",
    "```\n",
    "ERROR:__main__:R script failed for location 02, date 2024-03-16:\n",
    "Error in arima(y, order = c(1, 0, 0), xreg = cbind(t, D.m), include.mean = TRUE,  :\n",
    "  non-stationary AR part from CSS\n",
    "Calls: ga.cpt_ts -> fitness -> arima\n",
    "Execution halted\n",
    "```"
   ]
  },
  {
   "attachments": {},
   "cell_type": "markdown",
   "metadata": {},
   "source": [
    "These are the locations and dates where it occurred on my most recent run:\n",
    "\n",
    "```\n",
    "34, 2023-10-21:, 2023-11-04:, 2023-11-11:, 2023-11-18:, 2023-11-25:, 2023-12-02:, 2023-12-09:, 2023-12-16:, 2023-12-23:, 2023-12-30:, 2024-01-06:, 2024-01-13:, \n",
    "    2024-01-20:, 2024-01-27:, 2024-02-10:, 2024-02-17:, 2024-02-24:, 2024-03-02:, 2024-03-09:, 2024-03-16:, 2024-03-23:, 2024-03-30:, 2024-04-06:\n",
    "29, 2023-12-09:\n",
    "12, 2023-11-11:, 2024-01-06:, 2024-01-27:, 2024-03-02:, 2024-03-30:\n",
    "13, 2023-12-23:\n",
    "15, 2024-01-06:, 2024-03-02:, 2024-03-23:\n",
    "72, 2023-11-25:\n",
    "21, 2023-11-04:\n",
    "16, 2023-10-21:\n",
    "45, 2023-10-21:, 2023-11-04:, 2023-12-23:, 2023-12-30:, 2024-01-13:, 2024-02-03:, 2024-04-06:\n",
    "22, 2024-03-23:\n",
    "17, 2024-03-16:\n",
    "23, 2023-10-28:\n",
    "48, 2023-11-25:\n",
    "02, 2023-11-04:, 2023-11-11:, 2023-11-18:, 2023-12-02:, 2023-12-16:, 2023-12-23:, 2024-01-06:, 2024-01-27:, 2024-02-10:, 2024-02-17:, 2024-03-09:, 2024-03-16:, 2024-03-30:, 2024-04-06:\n",
    "49, 2023-12-02:\n",
    "04, 2024-01-20:, 2024-01-27:, 2024-02-17:, 2024-03-02:, 2024-03-30:\n",
    "56, 2023-12-16:, 2024-01-06:, 2024-01-13:, 2024-03-16:\n",
    "```"
   ]
  }
 ],
 "metadata": {
  "language_info": {
   "name": "python"
  },
  "orig_nbformat": 4
 },
 "nbformat": 4,
 "nbformat_minor": 2
}
